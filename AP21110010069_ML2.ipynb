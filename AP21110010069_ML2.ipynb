{
 "cells": [
  {
   "cell_type": "code",
   "execution_count": 1,
   "id": "222d99f0",
   "metadata": {},
   "outputs": [
    {
     "name": "stdout",
     "output_type": "stream",
     "text": [
      "Requirement already satisfied: numpy in c:\\users\\user\\anaconda3\\lib\\site-packages (1.24.3)\n",
      "Note: you may need to restart the kernel to use updated packages.\n"
     ]
    }
   ],
   "source": [
    "pip install numpy"
   ]
  },
  {
   "cell_type": "code",
   "execution_count": 3,
   "id": "27dd283a",
   "metadata": {},
   "outputs": [
    {
     "name": "stdout",
     "output_type": "stream",
     "text": [
      "Array1:\n",
      "[2 1 3]\n",
      "Array2:\n",
      "[5 3 9]\n",
      "Multiplication of two arrays a and b:\n",
      "[10  3 27]\n"
     ]
    }
   ],
   "source": [
    "#numpy1\n",
    "import numpy as np\n",
    "a=np.array([2,1,3])\n",
    "b=np.array([5,3,9])\n",
    "print(\"Array1:\")\n",
    "print(a)\n",
    "print(\"Array2:\")\n",
    "print(b)\n",
    "print(\"Multiplication of two arrays a and b:\")\n",
    "print(np.multiply(a,b))"
   ]
  },
  {
   "cell_type": "code",
   "execution_count": 4,
   "id": "e1033a0d",
   "metadata": {},
   "outputs": [
    {
     "name": "stdout",
     "output_type": "stream",
     "text": [
      "given array:\n",
      "[[ 2. nan  8.]\n",
      " [nan  5.  7.]]\n",
      "\n",
      "missing array:\n",
      "[[False  True False]\n",
      " [ True False False]]\n"
     ]
    }
   ],
   "source": [
    "#numpy2\n",
    "import numpy as np\n",
    "a=np.array([[2,np.nan,8],\n",
    "            [np.nan,5,7]])\n",
    "print(\"given array:\")\n",
    "print(a)\n",
    "print(\"\\nmissing array:\")\n",
    "print(np.isnan(a))"
   ]
  },
  {
   "cell_type": "code",
   "execution_count": 5,
   "id": "7ec14881",
   "metadata": {},
   "outputs": [
    {
     "name": "stdout",
     "output_type": "stream",
     "text": [
      "Array1: [2 4 5 6]\n",
      "Array2: [4 6]\n",
      "[False  True False  True]\n"
     ]
    }
   ],
   "source": [
    "#numpy3\n",
    "import numpy as np\n",
    "a=np.array([2,4,5,6])\n",
    "print(\"Array1:\",a)\n",
    "b=np.array([4,6])\n",
    "print(\"Array2:\",b)\n",
    "print(np.in1d(a,b))"
   ]
  },
  {
   "cell_type": "code",
   "execution_count": 6,
   "id": "f940cc19",
   "metadata": {},
   "outputs": [],
   "source": [
    "#numpy4\n",
    "import numpy as np\n",
    "a=np.array([[1,2,4],\n",
    "            [6,7,3]])\n",
    "np.savetxt('myarray.txt',a)"
   ]
  },
  {
   "cell_type": "code",
   "execution_count": 8,
   "id": "ede6c679",
   "metadata": {},
   "outputs": [
    {
     "name": "stdout",
     "output_type": "stream",
     "text": [
      "[2.5        2.63793103 2.77586207 2.9137931  3.05172414 3.18965517\n",
      " 3.32758621 3.46551724 3.60344828 3.74137931 3.87931034 4.01724138\n",
      " 4.15517241 4.29310345 4.43103448 4.56896552 4.70689655 4.84482759\n",
      " 4.98275862 5.12068966 5.25862069 5.39655172 5.53448276 5.67241379\n",
      " 5.81034483 5.94827586 6.0862069  6.22413793 6.36206897 6.5       ]\n"
     ]
    }
   ],
   "source": [
    "#numpy5\n",
    "import numpy as np\n",
    "a=np.linspace(2.5,6.5,30)\n",
    "print(a)"
   ]
  },
  {
   "cell_type": "code",
   "execution_count": 9,
   "id": "0fce6044",
   "metadata": {},
   "outputs": [
    {
     "name": "stdout",
     "output_type": "stream",
     "text": [
      "Given array:\n",
      "0    [Dhoni, Virat, Sachin]\n",
      "1             [Faf, Shakib]\n",
      "dtype: object\n",
      "0     Dhoni\n",
      "1     Virat\n",
      "2    Sachin\n",
      "3       Faf\n",
      "4    Shakib\n",
      "dtype: object\n"
     ]
    }
   ],
   "source": [
    "#pandas1\n",
    "import pandas as pd\n",
    "a=pd.Series([\n",
    "    ['Dhoni','Virat','Sachin'],\n",
    "    ['Faf','Shakib']\n",
    "])\n",
    "print(\"Given array:\")\n",
    "print(a)\n",
    "a=a.apply(pd.Series).stack().reset_index(drop=True)\n",
    "print(a)"
   ]
  },
  {
   "cell_type": "code",
   "execution_count": 2,
   "id": "b32c41e7",
   "metadata": {},
   "outputs": [
    {
     "name": "stdout",
     "output_type": "stream",
     "text": [
      "Given series: 0    0\n",
      "1    1\n",
      "2    2\n",
      "3    3\n",
      "4    4\n",
      "5    5\n",
      "6    6\n",
      "7    7\n",
      "8    8\n",
      "dtype: int64\n",
      "\n",
      "Subset series:\n",
      "0    0\n",
      "1    1\n",
      "2    2\n",
      "3    3\n",
      "dtype: int64\n"
     ]
    }
   ],
   "source": [
    "#pandas2\n",
    "import pandas as pd\n",
    "import pandas as pd\n",
    "a=pd.Series([0,1,2,3,4,5,6,7,8])\n",
    "print(\"Given series:\",a)\n",
    "print(\"\\nSubset series:\")\n",
    "n=4\n",
    "b=a[a<n]\n",
    "print(b)"
   ]
  },
  {
   "cell_type": "code",
   "execution_count": 20,
   "id": "bf106d53",
   "metadata": {},
   "outputs": [
    {
     "name": "stdout",
     "output_type": "stream",
     "text": [
      "Given Series:\n",
      "0     4\n",
      "1     1\n",
      "2     3\n",
      "3     4\n",
      "4     1\n",
      "5     1\n",
      "6     3\n",
      "7     4\n",
      "8     3\n",
      "9     2\n",
      "10    4\n",
      "11    2\n",
      "12    1\n",
      "13    3\n",
      "14    3\n",
      "dtype: int32\n",
      "Freq: 3    5\n",
      "4    4\n",
      "1    4\n",
      "2    2\n",
      "Name: count, dtype: int64\n",
      "0     Other\n",
      "1     Other\n",
      "2         3\n",
      "3     Other\n",
      "4     Other\n",
      "5     Other\n",
      "6         3\n",
      "7     Other\n",
      "8         3\n",
      "9     Other\n",
      "10    Other\n",
      "11    Other\n",
      "12    Other\n",
      "13        3\n",
      "14        3\n",
      "dtype: object\n"
     ]
    }
   ],
   "source": [
    "#pandas3\n",
    "import pandas as pd\n",
    "import numpy as np\n",
    "a = pd.Series(np.random.randint(1, 5, [15]))\n",
    "print(\"Given Series:\")\n",
    "print(a)\n",
    "print(\"Freq:\", a.value_counts())\n",
    "r = a[~a.isin(a.value_counts().index[:1])] = 'Other'\n",
    "print(a)"
   ]
  },
  {
   "cell_type": "code",
   "execution_count": 23,
   "id": "98995f0a",
   "metadata": {},
   "outputs": [
    {
     "name": "stdout",
     "output_type": "stream",
     "text": [
      "Given Series:\n",
      "\n",
      "0     14\n",
      "1     21\n",
      "2      3\n",
      "3      1\n",
      "4     23\n",
      "5     10\n",
      "6     14\n",
      "7      2\n",
      "8     17\n",
      "9      4\n",
      "10     9\n",
      "11    23\n",
      "12    12\n",
      "13    12\n",
      "14    20\n",
      "dtype: int32\n",
      "Positions of numbers that are multiples of 5:\n",
      "\n",
      "[[ 5]\n",
      " [14]]\n"
     ]
    }
   ],
   "source": [
    "#pandas4\n",
    "import pandas as pd \n",
    "import numpy as np \n",
    "a= pd.Series(np.random.randint(1, 25, 15)) \n",
    "print(\"Given Series:\\n\") \n",
    "print(a)\n",
    "r = np.argwhere(a % 5==0) \n",
    "print(\"Positions of numbers that are multiples of 5:\\n\") \n",
    "print(r)"
   ]
  },
  {
   "cell_type": "code",
   "execution_count": 24,
   "id": "94f63b9b",
   "metadata": {},
   "outputs": [
    {
     "name": "stdout",
     "output_type": "stream",
     "text": [
      "Given Series:\n",
      "0     Dhoni\n",
      "1     Virat\n",
      "2    Sachin\n",
      "3       Faf\n",
      "dtype: object\n",
      "\n",
      "Number of characters:\n",
      "0    5\n",
      "1    5\n",
      "2    6\n",
      "3    3\n",
      "dtype: int64\n"
     ]
    }
   ],
   "source": [
    "#pandas5\n",
    "import pandas as pd\n",
    "a= pd.Series(['Dhoni', 'Virat', 'Sachin', 'Faf'])\n",
    "print(\"Given Series:\")\n",
    "print(a)\n",
    "r=a.map(lambda x: len(x))\n",
    "print(\"\\nNumber of characters:\")\n",
    "print(r)"
   ]
  },
  {
   "cell_type": "code",
   "execution_count": 39,
   "id": "9eec0ab2",
   "metadata": {},
   "outputs": [
    {
     "name": "stdout",
     "output_type": "stream",
     "text": [
      "Given Series:\n",
      "0    Mar 2004\n",
      "1    Nov 2003\n",
      "2    Nov 2005\n",
      "3    Feb 2011\n",
      "4    Mar 2015\n",
      "dtype: object\n",
      "\n",
      "New dates:\n",
      "0   2004-03-09\n",
      "1   2003-11-09\n",
      "2   2005-11-09\n",
      "3   2011-02-09\n",
      "4   2015-03-09\n",
      "dtype: datetime64[ns]\n"
     ]
    }
   ],
   "source": [
    "#pandas6\n",
    "import pandas as pd\n",
    "from dateutil.parser import parse\n",
    "a = pd.Series(['Mar 2004', 'Nov 2003', 'Nov 2005', 'Feb 2011', 'Mar 2015'])\n",
    "print(\"Given Series:\")\n",
    "print(a)\n",
    "print(\"\\nNew dates:\")\n",
    "r=a.map(lambda d: parse('9' + d))\n",
    "print(r)"
   ]
  },
  {
   "cell_type": "code",
   "execution_count": 29,
   "id": "1e68693c",
   "metadata": {},
   "outputs": [
    {
     "name": "stdout",
     "output_type": "stream",
     "text": [
      "    name  score  attempts qualify\n",
      "a  Prash   12.5         1     yes\n",
      "b   Megh    9.0         3      no\n",
      "c   Nick   16.5         2     yes\n",
      "d  Sunny    NaN         3      no\n",
      "e   Bhav    9.0         2      no\n",
      "f    Nav   20.0         3     yes\n"
     ]
    }
   ],
   "source": [
    "#pandas7\n",
    "import pandas as pd\n",
    "import numpy as np\n",
    "a= {'name': ['Prash', 'Megh', 'Nick', 'Sunny', 'Bhav', 'Nav'],\n",
    "        'score': [12.5, 9, 16.5, np.nan, 9, 20],\n",
    "        'attempts': [1, 3, 2, 3, 2, 3],\n",
    "        'qualify': ['yes', 'no', 'yes', 'no', 'no', 'yes']}\n",
    "labels= ['a', 'b', 'c', 'd', 'e', 'f']\n",
    "c= pd.DataFrame(a , index=labels)\n",
    "print(c)"
   ]
  },
  {
   "cell_type": "code",
   "execution_count": 30,
   "id": "d447fc12",
   "metadata": {},
   "outputs": [
    {
     "name": "stdout",
     "output_type": "stream",
     "text": [
      "Number of attempts in the examination is greater than 2:\n",
      "    name  score  attempts qualify\n",
      "b   Megh    9.0         3      no\n",
      "d  Sunny    NaN         3      no\n",
      "f    Nav   20.0         3     yes\n"
     ]
    }
   ],
   "source": [
    "#pandas8\n",
    "import pandas as pd\n",
    "import numpy as np\n",
    "a= {'name': ['Prash', 'Megh', 'Nick', 'Sunny', 'Bhav', 'Nav'],\n",
    "        'score': [12.5, 9, 16.5, np.nan, 9, 20],\n",
    "        'attempts': [1, 3, 2, 3, 2, 3],\n",
    "        'qualify': ['yes', 'no', 'yes', 'no', 'no', 'yes']}\n",
    "labels= ['a', 'b', 'c', 'd', 'e', 'f']\n",
    "b= pd.DataFrame(a , index=labels)\n",
    "print(\"Number of attempts in the examination is greater than 2:\")\n",
    "print(b[b['attempts'] > 2])"
   ]
  },
  {
   "cell_type": "code",
   "execution_count": 34,
   "id": "d80ba5a9",
   "metadata": {},
   "outputs": [
    {
     "name": "stdout",
     "output_type": "stream",
     "text": [
      "Given rows:\n",
      "    name  score  attempts qualify\n",
      "a  Prash   12.5         1     yes\n",
      "b   Megh    9.0         3      no\n",
      "c   Nick   16.5         2     yes\n",
      "d  Sunny    NaN         3      no\n",
      "e   Bhav    9.0         2      no\n",
      "f    Nav   20.0         3     yes\n",
      "\n",
      "Append a new row:\n",
      "Print all records after insert a new record:\n",
      "    name  score  attempts qualify\n",
      "a  Prash    1.0      12.5     yes\n",
      "b   Megh    9.0       3.0      no\n",
      "c   Nick   16.5       2.0     yes\n",
      "d  Sunny    NaN       3.0      no\n",
      "e   Bhav    9.0       2.0      no\n",
      "f    Nav   20.0       3.0     yes\n",
      "\n",
      "Delete the new row and display the original  rows:\n",
      "    name  score  attempts qualify\n",
      "b   Megh    9.0       3.0      no\n",
      "c   Nick   16.5       2.0     yes\n",
      "d  Sunny    NaN       3.0      no\n",
      "e   Bhav    9.0       2.0      no\n",
      "f    Nav   20.0       3.0     yes\n"
     ]
    }
   ],
   "source": [
    "#pandas9\n",
    "import pandas as pd\n",
    "import numpy as np\n",
    "a= {'name': ['Prash', 'Megh', 'Nick', 'Sunny', 'Bhav', 'Nav'],\n",
    "        'score': [12.5, 9, 16.5, np.nan, 9, 20],\n",
    "        'attempts': [1, 3, 2, 3, 2, 3],\n",
    "        'qualify': ['yes', 'no', 'yes', 'no', 'no', 'yes']}\n",
    "labels= ['a', 'b', 'c', 'd', 'e', 'f']\n",
    "b= pd.DataFrame(a , index=labels)\n",
    "print(\"Given rows:\")\n",
    "print(b)\n",
    "print(\"\\nAppend a new row:\")\n",
    "b.loc['a'] = ['Prash',1,12.5, 'yes']\n",
    "print(\"Print all records after insert a new record:\")\n",
    "print(b)\n",
    "print(\"\\nDelete the new row and display the original  rows:\")\n",
    "b=b.drop('a')\n",
    "print(b)\n"
   ]
  },
  {
   "cell_type": "code",
   "execution_count": 35,
   "id": "c12c8daf",
   "metadata": {},
   "outputs": [
    {
     "name": "stdout",
     "output_type": "stream",
     "text": [
      "Given rows:\n",
      "    name  score  attempts qualify\n",
      "a  Prash   12.5         1     yes\n",
      "b   Megh    9.0         3      no\n",
      "c   Nick   16.5         2     yes\n",
      "d  Sunny    NaN         3      no\n",
      "e   Bhav    9.0         2      no\n",
      "f    Nav   20.0         3     yes\n",
      "Sort the data frame:\n",
      "    name  score  attempts qualify\n",
      "d  Sunny    NaN         3      no\n",
      "a  Prash   12.5         1     yes\n",
      "c   Nick   16.5         2     yes\n",
      "f    Nav   20.0         3     yes\n",
      "b   Megh    9.0         3      no\n",
      "e   Bhav    9.0         2      no\n"
     ]
    }
   ],
   "source": [
    "#pandas10\n",
    "import pandas as pd\n",
    "import numpy as np\n",
    "a= {'name': ['Prash', 'Megh', 'Nick', 'Sunny', 'Bhav', 'Nav'],\n",
    "        'score': [12.5, 9, 16.5, np.nan, 9, 20],\n",
    "        'attempts': [1, 3, 2, 3, 2, 3],\n",
    "        'qualify': ['yes', 'no', 'yes', 'no', 'no', 'yes']}\n",
    "labels= ['a', 'b', 'c', 'd', 'e', 'f']\n",
    "b= pd.DataFrame(a , index=labels)\n",
    "print(\"Given rows:\")\n",
    "print(b)\n",
    "b=b.sort_values(by=['name', 'score'], ascending=[False, True])\n",
    "print(\"Sort the data frame:\")\n",
    "print(b)\n"
   ]
  },
  {
   "cell_type": "code",
   "execution_count": 36,
   "id": "24aa70f3",
   "metadata": {},
   "outputs": [
    {
     "name": "stdout",
     "output_type": "stream",
     "text": [
      "Given rows:\n",
      "    name  score  attempts qualify\n",
      "a  Prash   12.5         1     yes\n",
      "b   Megh    9.0         3      no\n",
      "c   Nick   16.5         2     yes\n",
      "d  Sunny    NaN         3      no\n",
      "e   Bhav    9.0         2      no\n",
      "f    Nav   20.0         3     yes\n",
      "\n",
      "Replace the 'qualify' column contains the values 'yes' and 'no'  with True and  False:\n",
      "    name  score  attempts  qualify\n",
      "a  Prash   12.5         1     True\n",
      "b   Megh    9.0         3    False\n",
      "c   Nick   16.5         2     True\n",
      "d  Sunny    NaN         3    False\n",
      "e   Bhav    9.0         2    False\n",
      "f    Nav   20.0         3     True\n"
     ]
    }
   ],
   "source": [
    "#pandas11\n",
    "import pandas as pd\n",
    "import numpy as np\n",
    "a={'name': ['Prash', 'Megh', 'Nick', 'Sunny', 'Bhav', 'Nav'],\n",
    "        'score': [12.5, 9, 16.5, np.nan, 9, 20],\n",
    "        'attempts': [1, 3, 2, 3, 2, 3],\n",
    "        'qualify': ['yes', 'no', 'yes', 'no', 'no', 'yes']}\n",
    "labels= ['a', 'b', 'c', 'd', 'e', 'f']\n",
    "b= pd.DataFrame(a , index=labels)\n",
    "print(\"Given rows:\")\n",
    "print(b)\n",
    "print(\"\\nReplace the 'qualify' column contains the values 'yes' and 'no'  with True and  False:\")\n",
    "b['qualify'] = b['qualify'].map({'yes': True, 'no': False})\n",
    "print(b)\n"
   ]
  },
  {
   "cell_type": "code",
   "execution_count": 37,
   "id": "16f60550",
   "metadata": {},
   "outputs": [
    {
     "name": "stdout",
     "output_type": "stream",
     "text": [
      "Given DataFrame:\n",
      "        0\n",
      "0  1000.0\n",
      "1  2000.0\n",
      "2  3000.0\n",
      "3 -4000.0\n",
      "4     inf\n",
      "5    -inf\n",
      "Removing infinite values:\n",
      "        0\n",
      "0  1000.0\n",
      "1  2000.0\n",
      "2  3000.0\n",
      "3 -4000.0\n",
      "4     NaN\n",
      "5     NaN\n"
     ]
    }
   ],
   "source": [
    "#pandas12\n",
    "import pandas as pd\n",
    "import numpy as np\n",
    "b= pd.DataFrame([1000, 2000, 3000, -4000, np.inf, -np.inf])\n",
    "print(\"Given DataFrame:\")\n",
    "print(b)\n",
    "print(\"Removing infinite values:\")\n",
    "b=b.replace([np.inf, -np.inf], np.nan)\n",
    "print(b)"
   ]
  }
 ],
 "metadata": {
  "kernelspec": {
   "display_name": "Python 3 (ipykernel)",
   "language": "python",
   "name": "python3"
  },
  "language_info": {
   "codemirror_mode": {
    "name": "ipython",
    "version": 3
   },
   "file_extension": ".py",
   "mimetype": "text/x-python",
   "name": "python",
   "nbconvert_exporter": "python",
   "pygments_lexer": "ipython3",
   "version": "3.11.5"
  }
 },
 "nbformat": 4,
 "nbformat_minor": 5
}
