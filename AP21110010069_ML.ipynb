{
 "cells": [
  {
   "cell_type": "code",
   "execution_count": 3,
   "id": "49ca89fd",
   "metadata": {},
   "outputs": [
    {
     "name": "stdout",
     "output_type": "stream",
     "text": [
      "Sepal Length - Min: 4.3, Max: 7.9, Mean: 5.843333333333334, SD: 0.8253012917851409\n",
      "Sepal Width - Min: 2.0, Max: 4.4, Mean: 3.0540000000000003, SD: 0.4321465800705435\n",
      "Petal Length - Min: 1.0, Max: 6.9, Mean: 3.758666666666666, SD: 1.7585291834055212\n",
      "Petal Width - Min: 0.1, Max: 2.5, Mean: 1.1986666666666668, SD: 0.7606126185881716\n",
      "Class Correlation (Iris-setosa - Iris-versicolor): -0.07737515962392241\n",
      "Class Correlation (Iris-versicolor - Iris-virginica): -0.08694198330915553\n",
      "Class Correlation (Iris-virginica - Iris-setosa): 0.1439807553471497\n"
     ]
    }
   ],
   "source": [
    "import numpy as np\n",
    "\n",
    "with open(\"iris_data.txt\", \"r\") as file:\n",
    "    iris_data = file.readlines()\n",
    "\n",
    "data = [line.strip().split(\",\") for line in iris_data if line.strip()]\n",
    "\n",
    "sepal_l = np.array([float(entry[0]) for entry in data])\n",
    "sepal_w = np.array([float(entry[1]) for entry in data])\n",
    "petal_l = np.array([float(entry[2]) for entry in data])\n",
    "petal_w = np.array([float(entry[3]) for entry in data])\n",
    "cla = [entry[4] for entry in data]\n",
    "\n",
    "def cals(at, at_name):\n",
    "    min_v = np.min(at)\n",
    "    max_v = np.max(at)\n",
    "    mean_v = np.mean(at)\n",
    "    std_d = np.std(at)\n",
    "    print(f\"{at_name} - Min: {min_v}, Max: {max_v}, Mean: {mean_v}, SD: {std_d}\")\n",
    "cals(sepal_l, \"Sepal Length\")\n",
    "cals(sepal_w, \"Sepal Width\")\n",
    "cals(petal_l, \"Petal Length\")\n",
    "cals(petal_w, \"Petal Width\")\n",
    "\n",
    "ccd = list(zip(sepal_l, petal_l, cla))\n",
    "\n",
    "def calco(c1, c2, cld):\n",
    "    c1d = [(sl, pl) for sl, pl, cls in cld if cls == c1]\n",
    "    c2d = [(sl, pl) for sl, pl, cls in cld if cls == c2]\n",
    "\n",
    "    corr = np.corrcoef(np.transpose([d[0] for d in c1d]), np.transpose([d[1] for d in c2d]))[0, 1]\n",
    "    return corr\n",
    "\n",
    "cp = [(\"Iris-setosa\", \"Iris-versicolor\"), (\"Iris-versicolor\", \"Iris-virginica\"), (\"Iris-virginica\", \"Iris-setosa\")]\n",
    "for p in cp:\n",
    "    c1, c2 = p\n",
    "    corr = calco(c1, c2, ccd)\n",
    "    print(f\"Class Correlation ({c1} - {c2}): {corr}\")"
   ]
  },
  {
   "cell_type": "code",
   "execution_count": null,
   "id": "06d324fc",
   "metadata": {},
   "outputs": [],
   "source": []
  }
 ],
 "metadata": {
  "kernelspec": {
   "display_name": "Python 3 (ipykernel)",
   "language": "python",
   "name": "python3"
  },
  "language_info": {
   "codemirror_mode": {
    "name": "ipython",
    "version": 3
   },
   "file_extension": ".py",
   "mimetype": "text/x-python",
   "name": "python",
   "nbconvert_exporter": "python",
   "pygments_lexer": "ipython3",
   "version": "3.11.5"
  }
 },
 "nbformat": 4,
 "nbformat_minor": 5
}
