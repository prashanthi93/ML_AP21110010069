{
 "cells": [
  {
   "cell_type": "code",
   "execution_count": 3,
   "id": "9f117fe2",
   "metadata": {},
   "outputs": [],
   "source": [
    "import pandas as pd\n",
    "from sklearn.feature_selection import VarianceThreshold\n",
    "\n",
    "data = pd.read_csv('train.csv')\n",
    "\n",
    "missing_ratio_threshold = 0.2\n",
    "missing_values_ratio = data.isnull().sum() / len(data)\n",
    "columns_to_drop_missing = missing_values_ratio[missing_values_ratio > missing_ratio_threshold].index\n",
    "data.drop(columns=columns_to_drop_missing, inplace=True)\n",
    "\n",
    "numeric_columns = data.select_dtypes(include=['number']).columns\n",
    "\n",
    "selector = VarianceThreshold(threshold=variance_threshold)\n",
    "selector.fit(data[numeric_columns])\n",
    "low_variance_cols = data[numeric_columns].columns[~selector.get_support()]\n",
    "data.drop(columns=low_variance_cols, inplace=True)\n",
    "\n",
    "numeric_data = data.select_dtypes(include=['number'])\n",
    "\n",
    "correlation_matrix = numeric_data.corr().abs()\n",
    "\n",
    "mask = correlation_matrix.applymap(lambda x: x == 1)\n",
    "correlation_matrix[mask] = 0\n",
    "\n",
    "high_corr_pairs = (correlation_matrix.stack().sort_values(ascending=False))\n",
    "high_corr_pairs = high_corr_pairs[high_corr_pairs > 0.8] \n",
    "for idx in high_corr_pairs.index:\n",
    "    feature1, feature2 = idx\n",
    "    if feature1 in numeric_data.columns and feature2 in numeric_data.columns:\n",
    "        if correlation_matrix.loc[feature1, :].sum() > correlation_matrix.loc[feature2, :].sum():\n",
    "            data.drop(columns=[feature2], inplace=True)\n",
    "        else:\n",
    "            data.drop(columns=[feature1], inplace=True)\n",
    "\n",
    "data.to_csv('processed_train.csv', index=False)\n"
   ]
  }
 ],
 "metadata": {
  "kernelspec": {
   "display_name": "Python 3 (ipykernel)",
   "language": "python",
   "name": "python3"
  },
  "language_info": {
   "codemirror_mode": {
    "name": "ipython",
    "version": 3
   },
   "file_extension": ".py",
   "mimetype": "text/x-python",
   "name": "python",
   "nbconvert_exporter": "python",
   "pygments_lexer": "ipython3",
   "version": "3.11.5"
  }
 },
 "nbformat": 4,
 "nbformat_minor": 5
}
