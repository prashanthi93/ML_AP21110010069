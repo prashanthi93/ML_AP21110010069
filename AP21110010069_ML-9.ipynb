{
 "cells": [
  {
   "cell_type": "code",
   "execution_count": 7,
   "id": "c0571da1",
   "metadata": {},
   "outputs": [
    {
     "name": "stdout",
     "output_type": "stream",
     "text": [
      "Content-Based Filtering Recommendations for Toy Story:\n",
      "1706                                          Antz (1998)\n",
      "2355                                   Toy Story 2 (1999)\n",
      "2809       Adventures of Rocky and Bullwinkle, The (2000)\n",
      "3000                     Emperor's New Groove, The (2000)\n",
      "3568                                Monsters, Inc. (2001)\n",
      "6194                                     Wild, The (2006)\n",
      "6486                               Shrek the Third (2007)\n",
      "6948                       Tale of Despereaux, The (2008)\n",
      "7760    Asterix and the Vikings (Astérix et les Viking...\n",
      "8219                                         Turbo (2013)\n",
      "Name: title, dtype: object\n",
      "\n",
      "Item-Based Collaborative Filtering Recommendations for Toy Story:\n",
      "2353                                 'night Mother (1986)\n",
      "224             Star Wars: Episode IV - A New Hope (1977)\n",
      "910     Once Upon a Time in the West (C'era una volta ...\n",
      "322                                 Lion King, The (1994)\n",
      "418                                  Jurassic Park (1993)\n",
      "963                                           Diva (1981)\n",
      "968                           Arsenic and Old Lace (1944)\n",
      "615                  Independence Day (a.k.a. ID4) (1996)\n",
      "3189            Rififi (Du rififi chez les hommes) (1955)\n",
      "546                            Mission: Impossible (1996)\n",
      "Name: title, dtype: object\n"
     ]
    }
   ],
   "source": [
    "import pandas as pd\n",
    "from sklearn.feature_extraction.text import TfidfVectorizer\n",
    "from sklearn.metrics.pairwise import linear_kernel\n",
    "\n",
    "movies_df = pd.read_csv('movies.csv')\n",
    "ratings_df = pd.read_csv('ratings.csv')\n",
    "\n",
    "movies_df['genres'] = movies_df['genres'].str.replace('|', ' ')\n",
    "\n",
    "tfidf = TfidfVectorizer(stop_words='english')\n",
    "tfidf_matrix = tfidf.fit_transform(movies_df['genres'])\n",
    "\n",
    "content_cosine_sim = linear_kernel(tfidf_matrix, tfidf_matrix)\n",
    "\n",
    "pivot_table = ratings_df.pivot_table(index='movieId', columns='userId', values='rating').fillna(0)\n",
    "pivot_table_centered = pivot_table.apply(lambda x: x - x.mean(), axis=1)\n",
    "\n",
    "collab_cosine_sim = linear_kernel(pivot_table_centered, pivot_table_centered)\n",
    "\n",
    "def get_content_based_recommendations(title, cosine_sim=content_cosine_sim):\n",
    "    idx = movies_df.loc[movies_df['title'].str.contains(title, case=False)].index[0]\n",
    "    sim_scores = list(enumerate(cosine_sim[idx]))\n",
    "    sim_scores = sorted(sim_scores, key=lambda x: x[1], reverse=True)\n",
    "    sim_scores = sim_scores[1:11]  # Get top 10 similar movies\n",
    "    movie_indices = [i[0] for i in sim_scores]\n",
    "    return movies_df['title'].iloc[movie_indices]\n",
    "\n",
    "def get_item_based_recommendations(movie_id, cosine_sim=collab_cosine_sim):\n",
    "    idx = movies_df[movies_df['movieId'] == movie_id].index[0]\n",
    "    sim_scores = list(enumerate(cosine_sim[idx]))\n",
    "    sim_scores = sorted(sim_scores, key=lambda x: x[1], reverse=True)\n",
    "    sim_scores = sim_scores[1:11]  # Get top 10 similar movies\n",
    "    movie_indices = [i[0] for i in sim_scores]\n",
    "    return movies_df['title'].iloc[movie_indices]\n",
    "\n",
    "content_based_results = get_content_based_recommendations('Toy Story')\n",
    "print(\"Content-Based Filtering Recommendations for Toy Story:\")\n",
    "print(content_based_results)\n",
    "\n",
    "item_based_results = get_item_based_recommendations(1)  # Assuming Toy Story has movieId 1\n",
    "print(\"\\nItem-Based Collaborative Filtering Recommendations for Toy Story:\")\n",
    "print(item_based_results)"
   ]
  }
 ],
 "metadata": {
  "kernelspec": {
   "display_name": "Python 3 (ipykernel)",
   "language": "python",
   "name": "python3"
  },
  "language_info": {
   "codemirror_mode": {
    "name": "ipython",
    "version": 3
   },
   "file_extension": ".py",
   "mimetype": "text/x-python",
   "name": "python",
   "nbconvert_exporter": "python",
   "pygments_lexer": "ipython3",
   "version": "3.11.5"
  }
 },
 "nbformat": 4,
 "nbformat_minor": 5
}
