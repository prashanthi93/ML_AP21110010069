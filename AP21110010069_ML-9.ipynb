{
 "cells": [
  {
   "cell_type": "code",
   "execution_count": 4,
   "id": "c0571da1",
   "metadata": {},
   "outputs": [
    {
     "name": "stdout",
     "output_type": "stream",
     "text": [
      "Content-based filtering:\n",
      "Similar movies to 'Toy Story (1995)':\n",
      "Turbo (2013), Similarity Score: 0.9999999999999999\n",
      "Monsters, Inc. (2001), Similarity Score: 0.9999999999999999\n",
      "Moana (2016), Similarity Score: 0.9999999999999999\n",
      "Emperor's New Groove, The (2000), Similarity Score: 0.9999999999999999\n",
      "Adventures of Rocky and Bullwinkle, The (2000), Similarity Score: 0.9999999999999999\n",
      "\n",
      "Collaborative-based filtering:\n",
      "Similar movies to 'Toy Story (1995)':\n",
      "Return of Jafar, The (1994), Similarity Score: 0.03525721771804848\n",
      "House II: The Second Story (1987), Similarity Score: 0.03501318445782219\n",
      "Return of the One-Armed Swordsman (1969), Similarity Score: 0.033687987245898235\n",
      "Returner (Ritaanaa) (2002), Similarity Score: 0.03355050483326334\n",
      "3 Days to Kill (2014), Similarity Score: 0.0331875671818464\n"
     ]
    }
   ],
   "source": [
    "import pandas as pd\n",
    "import numpy as np\n",
    "from sklearn.metrics.pairwise import cosine_similarity\n",
    "\n",
    "movies_df = pd.read_csv('movies.csv')\n",
    "genres_list = movies_df['genres'].str.get_dummies(sep='|')\n",
    "content_features = genres_list.values\n",
    "\n",
    "content_cosine_sim = cosine_similarity(content_features, content_features)\n",
    "\n",
    "ratings_matrix = np.random.randint(1, 6, size=(len(movies_df), len(movies_df)))\n",
    "\n",
    "mean_ratings = np.mean(ratings_matrix, axis=1, keepdims=True)\n",
    "centered_ratings_matrix = ratings_matrix - mean_ratings\n",
    "\n",
    "collab_cosine_sim = cosine_similarity(centered_ratings_matrix, centered_ratings_matrix)\n",
    "\n",
    "def get_top_similar_movies(similarity_matrix, movie_index, n=5):\n",
    "    movie_similarities = similarity_matrix[movie_index]\n",
    "    similar_indices = np.argsort(movie_similarities)[::-1]\n",
    "    similar_indices = similar_indices[similar_indices != movie_index]\n",
    "    return similar_indices[:n], movie_similarities[similar_indices[:n]]\n",
    "\n",
    "movie_index = 0\n",
    "similar_movies, similarity_scores = get_top_similar_movies(content_cosine_sim, movie_index)\n",
    "print(\"Content-based filtering:\")\n",
    "print(\"Similar movies to '{}':\".format(movies_df.iloc[movie_index]['title']))\n",
    "for movie_idx, similarity_score in zip(similar_movies, similarity_scores):\n",
    "    print(\"{}, Similarity Score: {}\".format(movies_df.iloc[movie_idx]['title'], similarity_score))\n",
    "\n",
    "similar_movies, similarity_scores = get_top_similar_movies(collab_cosine_sim, movie_index)\n",
    "print(\"\\nCollaborative-based filtering:\")\n",
    "print(\"Similar movies to '{}':\".format(movies_df.iloc[movie_index]['title']))\n",
    "for movie_idx, similarity_score in zip(similar_movies, similarity_scores):\n",
    "    print(\"{}, Similarity Score: {}\".format(movies_df.iloc[movie_idx]['title'], similarity_score))"
   ]
  }
 ],
 "metadata": {
  "kernelspec": {
   "display_name": "Python 3 (ipykernel)",
   "language": "python",
   "name": "python3"
  },
  "language_info": {
   "codemirror_mode": {
    "name": "ipython",
    "version": 3
   },
   "file_extension": ".py",
   "mimetype": "text/x-python",
   "name": "python",
   "nbconvert_exporter": "python",
   "pygments_lexer": "ipython3",
   "version": "3.11.5"
  }
 },
 "nbformat": 4,
 "nbformat_minor": 5
}
